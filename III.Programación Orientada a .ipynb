{
  "nbformat": 4,
  "nbformat_minor": 0,
  "metadata": {
    "colab": {
      "provenance": []
    },
    "kernelspec": {
      "name": "python3",
      "display_name": "Python 3"
    },
    "language_info": {
      "name": "python"
    }
  },
  "cells": [
    {
      "cell_type": "code",
      "execution_count": 2,
      "metadata": {
        "id": "M-HqUqQ8agVu"
      },
      "outputs": [],
      "source": [
        "# a) Clase TDevice\n",
        "class TDevice:\n",
        "    def __init__(self, tamaño, peso, altura, marca):\n",
        "        self.tamaño = tamaño\n",
        "        self.peso = peso\n",
        "        self.altura = altura\n",
        "        self.marca = marca\n",
        "\n",
        "    def encender(self):\n",
        "        pass\n",
        "\n",
        "    def apagar(self):\n",
        "        pass\n",
        "\n"
      ]
    },
    {
      "cell_type": "code",
      "source": [
        "# b) Clases TV, Licuadora y Celular\n",
        "class TV(TDevice):\n",
        "    def cambiar_canal(self, canal):\n",
        "        print(f\"Cambiando al canal {canal}\")\n",
        "\n",
        "    def ajustar_volumen(self, volumen):\n",
        "        print(f\"Ajustando volumen a {volumen}\")\n",
        "\n",
        "    def encender(self):\n",
        "        print(\"Encendiendo el televisor\")\n",
        "\n",
        "    def apagar(self):\n",
        "        print(\"Apagando el televisor\")\n",
        "\n",
        "class Licuadora(TDevice):\n",
        "    def mezclar(self, velocidad):\n",
        "        print(f\"Mezclando a velocidad {velocidad}\")\n",
        "\n",
        "    def picar(self):\n",
        "        print(\"Picando ingredientes\")\n",
        "\n",
        "    def encender(self):\n",
        "        print(\"Encendiendo la licuadora\")\n",
        "\n",
        "    def apagar(self):\n",
        "        print(\"Apagando la licuadora\")\n",
        "\n",
        "class Celular(TDevice):\n",
        "    def llamar(self, numero):\n",
        "        print(f\"Llamando al número {numero}\")\n",
        "\n",
        "    def enviar_mensaje(self, mensaje):\n",
        "        print(f\"Enviando mensaje: {mensaje}\")\n",
        "\n",
        "    def encender(self):\n",
        "        print(\"Encendiendo el celular\")\n",
        "\n",
        "    def apagar(self):\n",
        "        print(\"Apagando el celular\")\n",
        "\n"
      ],
      "metadata": {
        "id": "tz-SqURHavu2"
      },
      "execution_count": 3,
      "outputs": []
    },
    {
      "cell_type": "code",
      "source": [
        "# c) Instancias de TV, Licuadora y Celular\n",
        "tv1 = TV(tamaño=\"Grande\", peso=\"5kg\", altura=\"40cm\", marca=\"Samsung\")\n",
        "tv2 = TV(tamaño=\"Pequeño\", peso=\"2kg\", altura=\"20cm\", marca=\"LG\")\n",
        "\n",
        "licuadora1 = Licuadora(tamaño=\"Mediano\", peso=\"3kg\", altura=\"30cm\", marca=\"Oster\")\n",
        "licuadora2 = Licuadora(tamaño=\"Grande\", peso=\"4kg\", altura=\"35cm\", marca=\"Philips\")\n",
        "\n",
        "celular1 = Celular(tamaño=\"Pequeño\", peso=\"0.2kg\", altura=\"15cm\", marca=\"Apple\")\n",
        "celular2 = Celular(tamaño=\"Mediano\", peso=\"0.3kg\", altura=\"16cm\", marca=\"Samsung\")\n"
      ],
      "metadata": {
        "id": "gq141Kmjazgu"
      },
      "execution_count": 4,
      "outputs": []
    },
    {
      "cell_type": "code",
      "source": [
        "# d) Clase TPersona\n",
        "class TPersona:\n",
        "    def __init__(self, nombre, edad, genero):\n",
        "        self.nombre = nombre\n",
        "        self.edad = edad\n",
        "        self.genero = genero\n",
        "\n",
        "    def trabajar(self):\n",
        "        pass\n",
        "\n",
        "    def descansar(self):\n",
        "        pass\n",
        "\n",
        "    def comer(self):\n",
        "        pass\n",
        "\n",
        "    def dormir(self):\n",
        "        pass\n",
        "\n",
        "    def hablar(self):\n",
        "        pass\n"
      ],
      "metadata": {
        "id": "0IigNywva2vF"
      },
      "execution_count": 5,
      "outputs": []
    },
    {
      "cell_type": "code",
      "source": [
        "# e) Clases Policía, Administrador y Bombero\n",
        "class Policía(TPersona):\n",
        "    def patrullar(self):\n",
        "        print(\"Patrullando el área\")\n",
        "\n",
        "    def arrestar(self):\n",
        "        print(\"Arrestando al sospechoso\")\n",
        "\n",
        "class Administrador(TPersona):\n",
        "    def gestionar(self):\n",
        "        print(\"Gestionando los recursos\")\n",
        "\n",
        "    def organizar(self):\n",
        "        print(\"Organizando eventos\")\n",
        "\n",
        "class Bombero(TPersona):\n",
        "    def apagar_incendio(self):\n",
        "        print(\"Apagando el incendio\")\n",
        "\n",
        "    def rescatar(self):\n",
        "        print(\"Rescatando a personas\")\n",
        "\n"
      ],
      "metadata": {
        "id": "UJW5vIDHa54e"
      },
      "execution_count": 6,
      "outputs": []
    },
    {
      "cell_type": "code",
      "source": [
        "# f) Clase descendiente de Policía, Administrador y Bombero\n",
        "class SuperClase(Policía, Administrador, Bombero):\n",
        "    pass\n"
      ],
      "metadata": {
        "id": "-a4HQ0Sra81y"
      },
      "execution_count": 7,
      "outputs": []
    },
    {
      "cell_type": "code",
      "source": [
        "# g) Instancias de la SuperClase\n",
        "instancia1 = SuperClase(\"Juan\", 30, \"Masculino\")\n",
        "instancia2 = SuperClase(\"María\", 25, \"Femenino\")\n",
        "\n"
      ],
      "metadata": {
        "id": "ImHyOCgaa_PL"
      },
      "execution_count": 8,
      "outputs": []
    },
    {
      "cell_type": "code",
      "source": [
        "# h) Clase Persona\n",
        "class Persona:\n",
        "    def __init__(self, nombre, edad, genero):\n",
        "        self.nombre = nombre\n",
        "        self.edad = edad\n",
        "        self.genero = genero\n",
        "\n",
        "    def presentarse(self):\n",
        "        print(f\"¡Hola! Mi nombre es {self.nombre} y tengo {self.edad} años.\")\n"
      ],
      "metadata": {
        "id": "ifi2HNHzbBfI"
      },
      "execution_count": 9,
      "outputs": []
    },
    {
      "cell_type": "code",
      "source": [
        "# i) Subclase Estudiante\n",
        "class Estudiante(Persona):\n",
        "    def __init__(self, nombre, edad, genero, curso):\n",
        "        super().__init__(nombre, edad, genero)\n",
        "        self.curso = curso\n",
        "\n",
        "    def estudiar(self):\n",
        "        print(f\"Estoy estudiando el curso de {self.curso}\")\n"
      ],
      "metadata": {
        "id": "MwdarT_9bD8T"
      },
      "execution_count": 10,
      "outputs": []
    },
    {
      "cell_type": "code",
      "source": [
        "# j) Clase Rectángulo\n",
        "class Rectángulo:\n",
        "    def __init__(self, largo, ancho):\n",
        "        self.largo = largo\n",
        "        self.ancho = ancho\n",
        "\n",
        "    def área(self):\n",
        "        return self.largo * self.ancho\n",
        "\n"
      ],
      "metadata": {
        "id": "-hYS9b31bF4S"
      },
      "execution_count": 11,
      "outputs": []
    },
    {
      "cell_type": "code",
      "source": [
        "# Creación de instancias de las clases\n",
        "rectángulo = Rectángulo(largo=5, ancho=3)\n",
        "print(\"Área del rectángulo:\", rectángulo.área())\n",
        "\n",
        "estudiante = Estudiante(\"Ana\", 20, \"Femenino\", \"Matemáticas\")\n",
        "estudiante.presentarse()\n",
        "estudiante.estudiar()"
      ],
      "metadata": {
        "colab": {
          "base_uri": "https://localhost:8080/"
        },
        "id": "6jzbiRXAbH2B",
        "outputId": "179159a6-537f-4b2a-e9c9-00a1262bc35f"
      },
      "execution_count": 12,
      "outputs": [
        {
          "output_type": "stream",
          "name": "stdout",
          "text": [
            "Área del rectángulo: 15\n",
            "¡Hola! Mi nombre es Ana y tengo 20 años.\n",
            "Estoy estudiando el curso de Matemáticas\n"
          ]
        }
      ]
    }
  ]
}